{
 "cells": [
  {
   "cell_type": "markdown",
   "metadata": {},
   "source": [
    "EJERCICIO: Operadores aritméticos.\n",
    "\n",
    "Se muestar el uso de los diferentes tipos de operadores aritméticos, como la suma, resta, multiplicación, etc."
   ]
  },
  {
   "cell_type": "code",
   "execution_count": null,
   "metadata": {},
   "outputs": [
    {
     "name": "stdout",
     "output_type": "stream",
     "text": [
      " La distancia en km es de: 628949330\n",
      " La distancia en millas es de: 390577534\n"
     ]
    }
   ],
   "source": [
    "tierra = 149597870\n",
    "jupiter = 778547200\n",
    "milla = 0.621371\n",
    "\n",
    "distancia = jupiter - tierra\n",
    "print(\" La distancia en km es de: \" + str(distancia))\n",
    "\n",
    "distancia = distancia * milla\n",
    "print(\" La distancia en millas es de: \" + str(round(distancia)))"
   ]
  },
  {
   "cell_type": "markdown",
   "metadata": {},
   "source": [
    "EJERCICIO: Cadenas de números y valores absolutos.\n",
    "\n",
    "Se mnuestra como se trabaja con números y entradas de usuario."
   ]
  },
  {
   "cell_type": "code",
   "execution_count": 23,
   "metadata": {},
   "outputs": [
    {
     "ename": "SyntaxError",
     "evalue": "cannot assign to function call here. Maybe you meant '==' instead of '='? (3969214356.py, line 4)",
     "output_type": "error",
     "traceback": [
      "\u001b[1;36m  Input \u001b[1;32mIn [23]\u001b[1;36m\u001b[0m\n\u001b[1;33m    abs(distancia) = planeta_1 - tierra\u001b[0m\n\u001b[1;37m    ^\u001b[0m\n\u001b[1;31mSyntaxError\u001b[0m\u001b[1;31m:\u001b[0m cannot assign to function call here. Maybe you meant '==' instead of '='?\n"
     ]
    }
   ],
   "source": [
    "planeta_1 = int(input(\" Ingrese la distancia del planeta 1: \"))\n",
    "planeta_2 = int(input(\" Ingrese la distancia del planeta 2: \"))\n",
    "\n",
    "distancia = abs(planeta_1 - tierra)\n",
    "print(\" La distancia en km es de: \" + str(distancia))\n",
    "\n",
    "distancia = distancia * milla\n",
    "print(\" La distancia en millas es de: \" + str(round(distancia)))"
   ]
  }
 ],
 "metadata": {
  "interpreter": {
   "hash": "4377b27f8e4686739d02d62161872a63796ae6f0ed9f0699fce35597ef48d50c"
  },
  "kernelspec": {
   "display_name": "Python 3.10.2 64-bit",
   "language": "python",
   "name": "python3"
  },
  "language_info": {
   "codemirror_mode": {
    "name": "ipython",
    "version": 3
   },
   "file_extension": ".py",
   "mimetype": "text/x-python",
   "name": "python",
   "nbconvert_exporter": "python",
   "pygments_lexer": "ipython3",
   "version": "3.10.2"
  },
  "orig_nbformat": 4
 },
 "nbformat": 4,
 "nbformat_minor": 2
}
