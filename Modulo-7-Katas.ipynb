{
 "cells": [
  {
   "cell_type": "markdown",
   "metadata": {},
   "source": [
    "EJERCICIO: Búcle While.\n",
    "\n",
    "Se muestra el uso de los ciclos while."
   ]
  },
  {
   "cell_type": "markdown",
   "metadata": {},
   "source": [
    "- Creación de las variables."
   ]
  },
  {
   "cell_type": "code",
   "execution_count": 20,
   "metadata": {},
   "outputs": [],
   "source": [
    "nuevo_planeta = \"\";\n",
    "planetas = [];"
   ]
  },
  {
   "cell_type": "markdown",
   "metadata": {},
   "source": [
    "- creación del ciclo while."
   ]
  },
  {
   "cell_type": "code",
   "execution_count": 21,
   "metadata": {},
   "outputs": [],
   "source": [
    "while(nuevo_planeta.lower() != \"done\"):\n",
    "   nuevo_planeta = input(\" Ingrese el nombre del planeta: \")\n",
    "   if nuevo_planeta != \"\" and  nuevo_planeta.lower() != \"done\":\n",
    "       planetas.append(nuevo_planeta)"
   ]
  },
  {
   "cell_type": "markdown",
   "metadata": {},
   "source": [
    "EJERCICIO: Búcle for.\n",
    "\n",
    "Se muestra el uso de los ciclos for."
   ]
  },
  {
   "cell_type": "markdown",
   "metadata": {},
   "source": [
    "- Mostrar lista de planetas ingresados."
   ]
  },
  {
   "cell_type": "code",
   "execution_count": 22,
   "metadata": {},
   "outputs": [
    {
     "name": "stdout",
     "output_type": "stream",
     "text": [
      "1.- mercurio.\n",
      "2.- venus.\n",
      "3.- tierra.\n",
      "4.- marte.\n",
      "5.- jupiter.\n"
     ]
    }
   ],
   "source": [
    "contador = 1\n",
    "for i in planetas:\n",
    "    print(f\"{contador}.- {i}.\")\n",
    "    contador+=1"
   ]
  }
 ],
 "metadata": {
  "interpreter": {
   "hash": "4377b27f8e4686739d02d62161872a63796ae6f0ed9f0699fce35597ef48d50c"
  },
  "kernelspec": {
   "display_name": "Python 3.10.2 64-bit",
   "language": "python",
   "name": "python3"
  },
  "language_info": {
   "codemirror_mode": {
    "name": "ipython",
    "version": 3
   },
   "file_extension": ".py",
   "mimetype": "text/x-python",
   "name": "python",
   "nbconvert_exporter": "python",
   "pygments_lexer": "ipython3",
   "version": "3.10.2"
  },
  "orig_nbformat": 4
 },
 "nbformat": 4,
 "nbformat_minor": 2
}
