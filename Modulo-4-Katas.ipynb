{
 "cells": [
  {
   "cell_type": "markdown",
   "metadata": {},
   "source": [
    "EJERCICIO: Transformas cadena.\n",
    "\n",
    "Se muestra las diferentes formas en que uno puede manipular las cadenas."
   ]
  },
  {
   "cell_type": "code",
   "execution_count": 67,
   "metadata": {},
   "outputs": [
    {
     "data": {
      "text/plain": [
       "['Interesting facts about the Moon',\n",
       " \" The Moon is Earth's only satellite\",\n",
       " ' There are several interesting facts about the Moon and how it affects life here on Earth',\n",
       " ' \\nOn average, the Moon moves 4cm away from the Earth every year and 4 C',\n",
       " ' This yearly drift is not significant enough to cause immediate effects on Earth',\n",
       " ' The highest daylight temperature is too hight on 40 C']"
      ]
     },
     "execution_count": 67,
     "metadata": {},
     "output_type": "execute_result"
    }
   ],
   "source": [
    "text = \"\"\"Interesting facts about the Moon. The Moon is Earth's only satellite. There are several interesting facts about the Moon and how it affects life here on Earth. \n",
    "On average, the Moon moves 4cm away from the Earth every year and 4 C. This yearly drift is not significant enough to cause immediate effects on Earth. The highest daylight temperature is too hight on 40 C\"\"\"\n",
    "\n",
    "text = text.split('.')\n",
    "text\n"
   ]
  },
  {
   "cell_type": "code",
   "execution_count": 76,
   "metadata": {},
   "outputs": [
    {
     "name": "stdout",
     "output_type": "stream",
     "text": [
      " \n",
      "On average, the Moon moves 4cm away from the Earth every year and 4 C\n",
      " The highest daylight temperature is too hight on 40 C\n"
     ]
    }
   ],
   "source": [
    "pista = [\"average\", \"temperature\", \"distance\"]\n",
    "\n",
    "for i in pista:\n",
    "    for j in text:\n",
    "        if i in j:\n",
    "            print(j)\n",
    "            break;"
   ]
  },
  {
   "cell_type": "code",
   "execution_count": 80,
   "metadata": {},
   "outputs": [
    {
     "name": "stdout",
     "output_type": "stream",
     "text": [
      " \n",
      "On average, the Moon moves 4cm away from the Earth every year and 4 Celsius\n",
      " The highest daylight temperature is too hight on 40 Celsius\n"
     ]
    }
   ],
   "source": [
    "pista = [\"average\", \"temperature\", \"distance\"]\n",
    "\n",
    "for i in pista: \n",
    "    for j in text:\n",
    "        if i in j:\n",
    "            j = j.replace(\"C\", \"Celsius\")\n",
    "            print(j)\n",
    "            break"
   ]
  },
  {
   "cell_type": "markdown",
   "metadata": {},
   "source": [
    "EJERCICIO: Formateando cadenas.\n",
    "\n",
    "Se muestra las formas en que se pueden dar formatos a las cadenas."
   ]
  },
  {
   "cell_type": "code",
   "execution_count": 100,
   "metadata": {},
   "outputs": [],
   "source": [
    "name = \"Moon\"\n",
    "gravity = 0.00162\n",
    "planet = \"Earth\"\n",
    "\n",
    "titulo = \"La gravedad en la tierra\"\n",
    "\n",
    "distancia = 1000 * gravity;"
   ]
  },
  {
   "cell_type": "code",
   "execution_count": 101,
   "metadata": {},
   "outputs": [
    {
     "name": "stdout",
     "output_type": "stream",
     "text": [
      " La Gravedad En La Tierra\n",
      "--------------------------------------------------\n",
      "Planet: Earth.\n",
      "Gravedad en Earth: 1.6199999999999999 m/s2. \n",
      "\n"
     ]
    }
   ],
   "source": [
    "plantilla = f\"\"\" {titulo.title()}\n",
    "{'-'*50}\n",
    "Planet: {planet}.\n",
    "Gravedad en {planet}: {distancia} m/s2. \n",
    "\"\"\"\n",
    "\n",
    "print(plantilla)"
   ]
  }
 ],
 "metadata": {
  "interpreter": {
   "hash": "4377b27f8e4686739d02d62161872a63796ae6f0ed9f0699fce35597ef48d50c"
  },
  "kernelspec": {
   "display_name": "Python 3.10.2 64-bit",
   "language": "python",
   "name": "python3"
  },
  "language_info": {
   "codemirror_mode": {
    "name": "ipython",
    "version": 3
   },
   "file_extension": ".py",
   "mimetype": "text/x-python",
   "name": "python",
   "nbconvert_exporter": "python",
   "pygments_lexer": "ipython3",
   "version": "3.10.2"
  },
  "orig_nbformat": 4
 },
 "nbformat": 4,
 "nbformat_minor": 2
}
