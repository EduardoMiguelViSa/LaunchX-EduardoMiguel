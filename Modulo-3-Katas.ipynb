{
 "cells": [
  {
   "cell_type": "markdown",
   "metadata": {},
   "source": [
    "EJERCICIO: Declaraciones if, else y elif.\n",
    "\n",
    "Se muestra cmo funcionan la declaraciíon if ya sea verdadero o falso."
   ]
  },
  {
   "cell_type": "code",
   "execution_count": 11,
   "metadata": {},
   "outputs": [
    {
     "name": "stdout",
     "output_type": "stream",
     "text": [
      " ADVERTENCIA: Un asteroide se acerca y viaja a una velocidad de 49 km/s.\n"
     ]
    }
   ],
   "source": [
    "velocidad_asteroide = 49\n",
    "\n",
    "if velocidad_asteroide>24:\n",
    "    print(\" ADVERTENCIA: Un asteroide se acerca y viaja a una velocidad de \" + str(velocidad_asteroide) + \" km/s.\")\n",
    "else:\n",
    "    print(\" No pasa nada, el día estpá tranquilo.\")"
   ]
  },
  {
   "cell_type": "code",
   "execution_count": 19,
   "metadata": {},
   "outputs": [
    {
     "name": "stdout",
     "output_type": "stream",
     "text": [
      " No pasa nada, el día estpá tranquilo.\n"
     ]
    }
   ],
   "source": [
    "velocidad_asteroide = 18\n",
    "\n",
    "if velocidad_asteroide>=20:\n",
    "    print(\" ATENCIÓN: Se puede ver la luz de un asteriode de \" + str(velocidad_asteroide) + \" km/s.\")\n",
    "elif velocidad_asteroide==19:\n",
    "    print(\" Hay un asteroide pero no se puede ver su luz por que viaja a \" + str(velocidad_asteroide) + \" km/s.\")\n",
    "else:\n",
    "    print(\" No pasa nada, el día estpá tranquilo.\")"
   ]
  },
  {
   "cell_type": "markdown",
   "metadata": {},
   "source": [
    "EJERCICIO: Operadores AND y OR.\n",
    "\n",
    "Se muestra como funcionan los operadores de Y/O en las condiciones."
   ]
  },
  {
   "cell_type": "code",
   "execution_count": 21,
   "metadata": {},
   "outputs": [
    {
     "name": "stdout",
     "output_type": "stream",
     "text": [
      " ADVERTENCIA: Un asteroide de 40 metros de dimensión se acerca a la tierra a una velocidad de 25 km/s.\n"
     ]
    }
   ],
   "source": [
    "velocidad_asteroide = 25\n",
    "tamano_asteroide = 40\n",
    "\n",
    "if velocidad_asteroide>=25 and tamano_asteroide>=25:\n",
    "    print(\" ADVERTENCIA: Un asteroide de \" + str(tamano_asteroide) + \" metros de dimensión se acerca a la tierra a una velocidad de \" + str(velocidad_asteroide) + \" km/s.\")\n",
    "elif tamano_asteroide<25:\n",
    "    print(\" ATENCIÓN: Hay un asteroide pero este se desintegrará.\")\n",
    "elif velocidad_asteroide>=20:\n",
    "    print(\" ATENCIÓN: Se puede ver la luz de un asteriode de \" + str(velocidad_asteroide) + \" km/s.\")\n",
    "else:\n",
    "    print(\" No pasa nada, el día estpá tranquilo.\")"
   ]
  }
 ],
 "metadata": {
  "interpreter": {
   "hash": "4377b27f8e4686739d02d62161872a63796ae6f0ed9f0699fce35597ef48d50c"
  },
  "kernelspec": {
   "display_name": "Python 3.10.2 64-bit",
   "language": "python",
   "name": "python3"
  },
  "language_info": {
   "codemirror_mode": {
    "name": "ipython",
    "version": 3
   },
   "file_extension": ".py",
   "mimetype": "text/x-python",
   "name": "python",
   "nbconvert_exporter": "python",
   "pygments_lexer": "ipython3",
   "version": "3.10.2"
  },
  "orig_nbformat": 4
 },
 "nbformat": 4,
 "nbformat_minor": 2
}
