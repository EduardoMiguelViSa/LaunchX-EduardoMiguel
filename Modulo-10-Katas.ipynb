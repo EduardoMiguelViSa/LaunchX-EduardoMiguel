{
 "cells": [
  {
   "cell_type": "markdown",
   "metadata": {},
   "source": [
    "TRACEBACKS.\n",
    "\n",
    "Un traceback es el cuerpo del texto que puede apuntar al origen (y al final) de un error no controlado. Comprender los componentes de un traceback hará que seas más eficaz al corregir errores o depurar un programa que no funciona bien."
   ]
  },
  {
   "cell_type": "code",
   "execution_count": 7,
   "metadata": {},
   "outputs": [
    {
     "ename": "FileNotFoundError",
     "evalue": "[Errno 2] No such file or directory: '/path/to/mars.jpg'",
     "output_type": "error",
     "traceback": [
      "\u001b[1;31m---------------------------------------------------------------------------\u001b[0m",
      "\u001b[1;31mFileNotFoundError\u001b[0m                         Traceback (most recent call last)",
      "\u001b[1;32mc:\\Users\\eduar\\OneDrive - Instituto Tecnológico de Tuxtla Gutiérrez\\Documentos\\Curso\\LaunchX\\Modulo-2-Katas.ipynb Cell 2'\u001b[0m in \u001b[0;36m<module>\u001b[1;34m\u001b[0m\n\u001b[1;32m----> <a href='vscode-notebook-cell:/c%3A/Users/eduar/OneDrive%20-%20Instituto%20Tecnol%C3%B3gico%20de%20Tuxtla%20Guti%C3%A9rrez/Documentos/Curso/LaunchX/Modulo-2-Katas.ipynb#ch0000002?line=0'>1</a>\u001b[0m \u001b[39mopen\u001b[39;49m(\u001b[39m\"\u001b[39;49m\u001b[39m/path/to/mars.jpg\u001b[39;49m\u001b[39m\"\u001b[39;49m)\n",
      "\u001b[1;31mFileNotFoundError\u001b[0m: [Errno 2] No such file or directory: '/path/to/mars.jpg'"
     ]
    }
   ],
   "source": [
    "open(\"/path/to/mars.jpg\")"
   ]
  },
  {
   "cell_type": "markdown",
   "metadata": {},
   "source": [
    "Intenta crear un archivo de Python y asígnale el nombre open.py, copn el contenido indicado."
   ]
  },
  {
   "cell_type": "code",
   "execution_count": 9,
   "metadata": {},
   "outputs": [
    {
     "name": "stderr",
     "output_type": "stream",
     "text": [
      "Traceback (most recent call last):\n",
      "  File \"c:\\Users\\eduar\\OneDrive - Instituto Tecnológico de Tuxtla Gutiérrez\\Documentos\\Curso\\LaunchX\\open.py\", line 5, in <module>\n",
      "    main()\n",
      "  File \"c:\\Users\\eduar\\OneDrive - Instituto Tecnológico de Tuxtla Gutiérrez\\Documentos\\Curso\\LaunchX\\open.py\", line 2, in main\n",
      "    open(\"/path/to/mars.jpg\")\n",
      "FileNotFoundError: [Errno 2] No such file or directory: '/path/to/mars.jpg'\n"
     ]
    }
   ],
   "source": [
    "!python open.py"
   ]
  },
  {
   "cell_type": "markdown",
   "metadata": {},
   "source": [
    "TRY Y EXCEPT DE LOS BLOQUES.\n",
    "\n",
    "Vamos a usar el ejemplo de navegador a fin de crear código que abra archivos de configuración para la misión de Marte. Los archivos de configuración pueden tener todo tipo de problemas, por lo que es fundamental notificarlos con precisión cuando se presenten. Sabemos que, si no existe un archivo o directorio, se genera FileNotFoundError. Si queremos controlar esa excepción, podemos hacerlo con un bloque try y except."
   ]
  },
  {
   "cell_type": "code",
   "execution_count": 10,
   "metadata": {},
   "outputs": [
    {
     "name": "stdout",
     "output_type": "stream",
     "text": [
      "Couldn't find the config.txt file!\n"
     ]
    }
   ],
   "source": [
    "try:\n",
    "    open('config.txt')\n",
    "except FileNotFoundError:\n",
    "    print(\"Couldn't find the config.txt file!\")"
   ]
  },
  {
   "cell_type": "markdown",
   "metadata": {},
   "source": [
    "Aunque es común un archivo que no existe, no es el único error que podemos encontrar. Los permisos de archivo no válidos pueden impedir la lectura de un archivo, incluso si este existe. Vamos a crear un archivo de Python denominado config.py. El archivo tiene código que busca y lee el archivo de configuración del sistema de navegación."
   ]
  },
  {
   "cell_type": "code",
   "execution_count": 1,
   "metadata": {},
   "outputs": [
    {
     "name": "stdout",
     "output_type": "stream",
     "text": [
      "Couldn't find the config.txt file!\n"
     ]
    }
   ],
   "source": [
    "!python config.py"
   ]
  },
  {
   "cell_type": "markdown",
   "metadata": {},
   "source": [
    "A continuación, quita,ps el archivo config.txt y creamos un directorio denominado config.txt. Intentaremos llamar al archivo config.py para ver un error nuevo que debería ser similar al siguiente."
   ]
  },
  {
   "cell_type": "code",
   "execution_count": 10,
   "metadata": {},
   "outputs": [
    {
     "name": "stderr",
     "output_type": "stream",
     "text": [
      "python: can't open file 'c:\\\\Users\\\\eduar\\\\OneDrive - Instituto Tecnológico de Tuxtla Gutiérrez\\\\Documentos\\\\Curso\\\\LaunchX\\\\config.py': [Errno 2] No such file or directory\n"
     ]
    }
   ],
   "source": [
    "!python config.py"
   ]
  },
  {
   "cell_type": "markdown",
   "metadata": {},
   "source": [
    "GENERACIÓN DE EXCEPCIONES.\n",
    "\n",
    "La generación de excepciones también puede ayudar en la toma de decisiones para otro código. Como hemos visto antes, en función del error, el código puede tomar decisiones inteligentes para resolver, solucionar o ignorar un problema.\n",
    "\n",
    "Los astronautas limitan su uso de agua a unos 11 litros al día. Vamos a crear una función que, con base al número de astronautas, pueda calcular la cantidad de agua quedará después de un día o más."
   ]
  },
  {
   "cell_type": "code",
   "execution_count": 11,
   "metadata": {},
   "outputs": [],
   "source": [
    "def water_left(astronauts, water_left, days_left):\n",
    "    daily_usage = astronauts * 11\n",
    "    total_usage = daily_usage * days_left\n",
    "    total_water_left = water_left - total_usage\n",
    "    return f\"Total water left after {days_left} days is: {total_water_left} liters\""
   ]
  },
  {
   "cell_type": "markdown",
   "metadata": {},
   "source": [
    "Probemos con cinco astronautas, 100 litros de agua sobrante y dos días:"
   ]
  },
  {
   "cell_type": "code",
   "execution_count": 12,
   "metadata": {},
   "outputs": [
    {
     "data": {
      "text/plain": [
       "'Total water left after 2 days is: -10 liters'"
      ]
     },
     "execution_count": 12,
     "metadata": {},
     "output_type": "execute_result"
    }
   ],
   "source": [
    "water_left(5, 100, 2)"
   ]
  },
  {
   "cell_type": "markdown",
   "metadata": {},
   "source": [
    "Esto no es muy útil, ya que una carencia en los litros sería un error. Después, el sistema de navegación podría alertar a los astronautas que no habrá suficiente agua para todos en dos días. Si eres un ingeniero(a) que programa el sistema de navegación, podrías generar una excepción en la función water_left() para alertar de la condición de error."
   ]
  },
  {
   "cell_type": "code",
   "execution_count": 13,
   "metadata": {},
   "outputs": [],
   "source": [
    "def water_left(astronauts, water_left, days_left):\n",
    "    daily_usage = astronauts * 11\n",
    "    total_usage = daily_usage * days_left\n",
    "    total_water_left = water_left - total_usage\n",
    "    if total_water_left < 0:\n",
    "        raise RuntimeError(f\"There is not enough water for {astronauts} astronauts after {days_left} days!\")\n",
    "    return f\"Total water left after {days_left} days is: {total_water_left} liters\""
   ]
  },
  {
   "cell_type": "code",
   "execution_count": 14,
   "metadata": {},
   "outputs": [
    {
     "ename": "RuntimeError",
     "evalue": "There is not enough water for 5 astronauts after 2 days!",
     "output_type": "error",
     "traceback": [
      "\u001b[1;31m---------------------------------------------------------------------------\u001b[0m",
      "\u001b[1;31mRuntimeError\u001b[0m                              Traceback (most recent call last)",
      "\u001b[1;32mc:\\Users\\eduar\\OneDrive - Instituto Tecnológico de Tuxtla Gutiérrez\\Documentos\\Curso\\LaunchX\\Modulo-10-Katas.ipynb Cell 17'\u001b[0m in \u001b[0;36m<module>\u001b[1;34m\u001b[0m\n\u001b[1;32m----> <a href='vscode-notebook-cell:/c%3A/Users/eduar/OneDrive%20-%20Instituto%20Tecnol%C3%B3gico%20de%20Tuxtla%20Guti%C3%A9rrez/Documentos/Curso/LaunchX/Modulo-10-Katas.ipynb#ch0000019?line=0'>1</a>\u001b[0m water_left(\u001b[39m5\u001b[39;49m, \u001b[39m100\u001b[39;49m, \u001b[39m2\u001b[39;49m)\n",
      "\u001b[1;32mc:\\Users\\eduar\\OneDrive - Instituto Tecnológico de Tuxtla Gutiérrez\\Documentos\\Curso\\LaunchX\\Modulo-10-Katas.ipynb Cell 16'\u001b[0m in \u001b[0;36mwater_left\u001b[1;34m(astronauts, water_left, days_left)\u001b[0m\n\u001b[0;32m      <a href='vscode-notebook-cell:/c%3A/Users/eduar/OneDrive%20-%20Instituto%20Tecnol%C3%B3gico%20de%20Tuxtla%20Guti%C3%A9rrez/Documentos/Curso/LaunchX/Modulo-10-Katas.ipynb#ch0000018?line=3'>4</a>\u001b[0m total_water_left \u001b[39m=\u001b[39m water_left \u001b[39m-\u001b[39m total_usage\n\u001b[0;32m      <a href='vscode-notebook-cell:/c%3A/Users/eduar/OneDrive%20-%20Instituto%20Tecnol%C3%B3gico%20de%20Tuxtla%20Guti%C3%A9rrez/Documentos/Curso/LaunchX/Modulo-10-Katas.ipynb#ch0000018?line=4'>5</a>\u001b[0m \u001b[39mif\u001b[39;00m total_water_left \u001b[39m<\u001b[39m \u001b[39m0\u001b[39m:\n\u001b[1;32m----> <a href='vscode-notebook-cell:/c%3A/Users/eduar/OneDrive%20-%20Instituto%20Tecnol%C3%B3gico%20de%20Tuxtla%20Guti%C3%A9rrez/Documentos/Curso/LaunchX/Modulo-10-Katas.ipynb#ch0000018?line=5'>6</a>\u001b[0m     \u001b[39mraise\u001b[39;00m \u001b[39mRuntimeError\u001b[39;00m(\u001b[39mf\u001b[39m\u001b[39m\"\u001b[39m\u001b[39mThere is not enough water for \u001b[39m\u001b[39m{\u001b[39;00mastronauts\u001b[39m}\u001b[39;00m\u001b[39m astronauts after \u001b[39m\u001b[39m{\u001b[39;00mdays_left\u001b[39m}\u001b[39;00m\u001b[39m days!\u001b[39m\u001b[39m\"\u001b[39m)\n\u001b[0;32m      <a href='vscode-notebook-cell:/c%3A/Users/eduar/OneDrive%20-%20Instituto%20Tecnol%C3%B3gico%20de%20Tuxtla%20Guti%C3%A9rrez/Documentos/Curso/LaunchX/Modulo-10-Katas.ipynb#ch0000018?line=6'>7</a>\u001b[0m \u001b[39mreturn\u001b[39;00m \u001b[39mf\u001b[39m\u001b[39m\"\u001b[39m\u001b[39mTotal water left after \u001b[39m\u001b[39m{\u001b[39;00mdays_left\u001b[39m}\u001b[39;00m\u001b[39m days is: \u001b[39m\u001b[39m{\u001b[39;00mtotal_water_left\u001b[39m}\u001b[39;00m\u001b[39m liters\u001b[39m\u001b[39m\"\u001b[39m\n",
      "\u001b[1;31mRuntimeError\u001b[0m: There is not enough water for 5 astronauts after 2 days!"
     ]
    }
   ],
   "source": [
    "water_left(5, 100, 2)"
   ]
  },
  {
   "cell_type": "markdown",
   "metadata": {},
   "source": [
    "En el sistema de navegación, el código para señalar la alerta ahora puede usar RuntimeError para generar la alerta."
   ]
  },
  {
   "cell_type": "code",
   "execution_count": 15,
   "metadata": {},
   "outputs": [
    {
     "ename": "NameError",
     "evalue": "name 'alert_navigation_system' is not defined",
     "output_type": "error",
     "traceback": [
      "\u001b[1;31m---------------------------------------------------------------------------\u001b[0m",
      "\u001b[1;31mRuntimeError\u001b[0m                              Traceback (most recent call last)",
      "\u001b[1;32mc:\\Users\\eduar\\OneDrive - Instituto Tecnológico de Tuxtla Gutiérrez\\Documentos\\Curso\\LaunchX\\Modulo-10-Katas.ipynb Cell 19'\u001b[0m in \u001b[0;36m<module>\u001b[1;34m\u001b[0m\n\u001b[0;32m      <a href='vscode-notebook-cell:/c%3A/Users/eduar/OneDrive%20-%20Instituto%20Tecnol%C3%B3gico%20de%20Tuxtla%20Guti%C3%A9rrez/Documentos/Curso/LaunchX/Modulo-10-Katas.ipynb#ch0000021?line=0'>1</a>\u001b[0m \u001b[39mtry\u001b[39;00m:\n\u001b[1;32m----> <a href='vscode-notebook-cell:/c%3A/Users/eduar/OneDrive%20-%20Instituto%20Tecnol%C3%B3gico%20de%20Tuxtla%20Guti%C3%A9rrez/Documentos/Curso/LaunchX/Modulo-10-Katas.ipynb#ch0000021?line=1'>2</a>\u001b[0m     water_left(\u001b[39m5\u001b[39;49m, \u001b[39m100\u001b[39;49m, \u001b[39m2\u001b[39;49m)\n\u001b[0;32m      <a href='vscode-notebook-cell:/c%3A/Users/eduar/OneDrive%20-%20Instituto%20Tecnol%C3%B3gico%20de%20Tuxtla%20Guti%C3%A9rrez/Documentos/Curso/LaunchX/Modulo-10-Katas.ipynb#ch0000021?line=2'>3</a>\u001b[0m \u001b[39mexcept\u001b[39;00m \u001b[39mRuntimeError\u001b[39;00m \u001b[39mas\u001b[39;00m err:\n",
      "\u001b[1;32mc:\\Users\\eduar\\OneDrive - Instituto Tecnológico de Tuxtla Gutiérrez\\Documentos\\Curso\\LaunchX\\Modulo-10-Katas.ipynb Cell 16'\u001b[0m in \u001b[0;36mwater_left\u001b[1;34m(astronauts, water_left, days_left)\u001b[0m\n\u001b[0;32m      <a href='vscode-notebook-cell:/c%3A/Users/eduar/OneDrive%20-%20Instituto%20Tecnol%C3%B3gico%20de%20Tuxtla%20Guti%C3%A9rrez/Documentos/Curso/LaunchX/Modulo-10-Katas.ipynb#ch0000018?line=4'>5</a>\u001b[0m \u001b[39mif\u001b[39;00m total_water_left \u001b[39m<\u001b[39m \u001b[39m0\u001b[39m:\n\u001b[1;32m----> <a href='vscode-notebook-cell:/c%3A/Users/eduar/OneDrive%20-%20Instituto%20Tecnol%C3%B3gico%20de%20Tuxtla%20Guti%C3%A9rrez/Documentos/Curso/LaunchX/Modulo-10-Katas.ipynb#ch0000018?line=5'>6</a>\u001b[0m     \u001b[39mraise\u001b[39;00m \u001b[39mRuntimeError\u001b[39;00m(\u001b[39mf\u001b[39m\u001b[39m\"\u001b[39m\u001b[39mThere is not enough water for \u001b[39m\u001b[39m{\u001b[39;00mastronauts\u001b[39m}\u001b[39;00m\u001b[39m astronauts after \u001b[39m\u001b[39m{\u001b[39;00mdays_left\u001b[39m}\u001b[39;00m\u001b[39m days!\u001b[39m\u001b[39m\"\u001b[39m)\n\u001b[0;32m      <a href='vscode-notebook-cell:/c%3A/Users/eduar/OneDrive%20-%20Instituto%20Tecnol%C3%B3gico%20de%20Tuxtla%20Guti%C3%A9rrez/Documentos/Curso/LaunchX/Modulo-10-Katas.ipynb#ch0000018?line=6'>7</a>\u001b[0m \u001b[39mreturn\u001b[39;00m \u001b[39mf\u001b[39m\u001b[39m\"\u001b[39m\u001b[39mTotal water left after \u001b[39m\u001b[39m{\u001b[39;00mdays_left\u001b[39m}\u001b[39;00m\u001b[39m days is: \u001b[39m\u001b[39m{\u001b[39;00mtotal_water_left\u001b[39m}\u001b[39;00m\u001b[39m liters\u001b[39m\u001b[39m\"\u001b[39m\n",
      "\u001b[1;31mRuntimeError\u001b[0m: There is not enough water for 5 astronauts after 2 days!",
      "\nDuring handling of the above exception, another exception occurred:\n",
      "\u001b[1;31mNameError\u001b[0m                                 Traceback (most recent call last)",
      "\u001b[1;32mc:\\Users\\eduar\\OneDrive - Instituto Tecnológico de Tuxtla Gutiérrez\\Documentos\\Curso\\LaunchX\\Modulo-10-Katas.ipynb Cell 19'\u001b[0m in \u001b[0;36m<module>\u001b[1;34m\u001b[0m\n\u001b[0;32m      <a href='vscode-notebook-cell:/c%3A/Users/eduar/OneDrive%20-%20Instituto%20Tecnol%C3%B3gico%20de%20Tuxtla%20Guti%C3%A9rrez/Documentos/Curso/LaunchX/Modulo-10-Katas.ipynb#ch0000021?line=1'>2</a>\u001b[0m     water_left(\u001b[39m5\u001b[39m, \u001b[39m100\u001b[39m, \u001b[39m2\u001b[39m)\n\u001b[0;32m      <a href='vscode-notebook-cell:/c%3A/Users/eduar/OneDrive%20-%20Instituto%20Tecnol%C3%B3gico%20de%20Tuxtla%20Guti%C3%A9rrez/Documentos/Curso/LaunchX/Modulo-10-Katas.ipynb#ch0000021?line=2'>3</a>\u001b[0m \u001b[39mexcept\u001b[39;00m \u001b[39mRuntimeError\u001b[39;00m \u001b[39mas\u001b[39;00m err:\n\u001b[1;32m----> <a href='vscode-notebook-cell:/c%3A/Users/eduar/OneDrive%20-%20Instituto%20Tecnol%C3%B3gico%20de%20Tuxtla%20Guti%C3%A9rrez/Documentos/Curso/LaunchX/Modulo-10-Katas.ipynb#ch0000021?line=3'>4</a>\u001b[0m     alert_navigation_system(err)\n",
      "\u001b[1;31mNameError\u001b[0m: name 'alert_navigation_system' is not defined"
     ]
    }
   ],
   "source": [
    "try:\n",
    "    water_left(5, 100, 2)\n",
    "except RuntimeError as err:\n",
    "    alert_navigation_system(err)"
   ]
  },
  {
   "cell_type": "markdown",
   "metadata": {},
   "source": [
    "La función water_left() también se puede actualizar para evitar el paso de tipos no admitidos. Intentenis pasar argumentos que no sean enteros para comprobar la salida de error."
   ]
  },
  {
   "cell_type": "code",
   "execution_count": 16,
   "metadata": {},
   "outputs": [
    {
     "ename": "TypeError",
     "evalue": "can't multiply sequence by non-int of type 'NoneType'",
     "output_type": "error",
     "traceback": [
      "\u001b[1;31m---------------------------------------------------------------------------\u001b[0m",
      "\u001b[1;31mTypeError\u001b[0m                                 Traceback (most recent call last)",
      "\u001b[1;32mc:\\Users\\eduar\\OneDrive - Instituto Tecnológico de Tuxtla Gutiérrez\\Documentos\\Curso\\LaunchX\\Modulo-10-Katas.ipynb Cell 21'\u001b[0m in \u001b[0;36m<module>\u001b[1;34m\u001b[0m\n\u001b[1;32m----> <a href='vscode-notebook-cell:/c%3A/Users/eduar/OneDrive%20-%20Instituto%20Tecnol%C3%B3gico%20de%20Tuxtla%20Guti%C3%A9rrez/Documentos/Curso/LaunchX/Modulo-10-Katas.ipynb#ch0000023?line=0'>1</a>\u001b[0m water_left(\u001b[39m\"\u001b[39;49m\u001b[39m3\u001b[39;49m\u001b[39m\"\u001b[39;49m, \u001b[39m\"\u001b[39;49m\u001b[39m200\u001b[39;49m\u001b[39m\"\u001b[39;49m, \u001b[39mNone\u001b[39;49;00m)\n",
      "\u001b[1;32mc:\\Users\\eduar\\OneDrive - Instituto Tecnológico de Tuxtla Gutiérrez\\Documentos\\Curso\\LaunchX\\Modulo-10-Katas.ipynb Cell 16'\u001b[0m in \u001b[0;36mwater_left\u001b[1;34m(astronauts, water_left, days_left)\u001b[0m\n\u001b[0;32m      <a href='vscode-notebook-cell:/c%3A/Users/eduar/OneDrive%20-%20Instituto%20Tecnol%C3%B3gico%20de%20Tuxtla%20Guti%C3%A9rrez/Documentos/Curso/LaunchX/Modulo-10-Katas.ipynb#ch0000018?line=0'>1</a>\u001b[0m \u001b[39mdef\u001b[39;00m \u001b[39mwater_left\u001b[39m(astronauts, water_left, days_left):\n\u001b[0;32m      <a href='vscode-notebook-cell:/c%3A/Users/eduar/OneDrive%20-%20Instituto%20Tecnol%C3%B3gico%20de%20Tuxtla%20Guti%C3%A9rrez/Documentos/Curso/LaunchX/Modulo-10-Katas.ipynb#ch0000018?line=1'>2</a>\u001b[0m     daily_usage \u001b[39m=\u001b[39m astronauts \u001b[39m*\u001b[39m \u001b[39m11\u001b[39m\n\u001b[1;32m----> <a href='vscode-notebook-cell:/c%3A/Users/eduar/OneDrive%20-%20Instituto%20Tecnol%C3%B3gico%20de%20Tuxtla%20Guti%C3%A9rrez/Documentos/Curso/LaunchX/Modulo-10-Katas.ipynb#ch0000018?line=2'>3</a>\u001b[0m     total_usage \u001b[39m=\u001b[39m daily_usage \u001b[39m*\u001b[39;49m days_left\n\u001b[0;32m      <a href='vscode-notebook-cell:/c%3A/Users/eduar/OneDrive%20-%20Instituto%20Tecnol%C3%B3gico%20de%20Tuxtla%20Guti%C3%A9rrez/Documentos/Curso/LaunchX/Modulo-10-Katas.ipynb#ch0000018?line=3'>4</a>\u001b[0m     total_water_left \u001b[39m=\u001b[39m water_left \u001b[39m-\u001b[39m total_usage\n\u001b[0;32m      <a href='vscode-notebook-cell:/c%3A/Users/eduar/OneDrive%20-%20Instituto%20Tecnol%C3%B3gico%20de%20Tuxtla%20Guti%C3%A9rrez/Documentos/Curso/LaunchX/Modulo-10-Katas.ipynb#ch0000018?line=4'>5</a>\u001b[0m     \u001b[39mif\u001b[39;00m total_water_left \u001b[39m<\u001b[39m \u001b[39m0\u001b[39m:\n",
      "\u001b[1;31mTypeError\u001b[0m: can't multiply sequence by non-int of type 'NoneType'"
     ]
    }
   ],
   "source": [
    "water_left(\"3\", \"200\", None)"
   ]
  },
  {
   "cell_type": "markdown",
   "metadata": {},
   "source": [
    "El error de TypeError no es muy descriptivo en el contexto de lo que espera la función. Actualizaremos la función para que use TypeError, pero con un mensaje mejor."
   ]
  },
  {
   "cell_type": "code",
   "execution_count": 17,
   "metadata": {},
   "outputs": [],
   "source": [
    "def water_left(astronauts, water_left, days_left):\n",
    "    for argument in [astronauts, water_left, days_left]:\n",
    "        try:\n",
    "            # If argument is an int, the following operation will work\n",
    "            argument / 10\n",
    "        except TypeError:\n",
    "            # TypError will be raised only if it isn't the right type \n",
    "            # Raise the same exception but with a better error message\n",
    "            raise TypeError(f\"All arguments must be of type int, but received: '{argument}'\")\n",
    "    daily_usage = astronauts * 11\n",
    "    total_usage = daily_usage * days_left\n",
    "    total_water_left = water_left - total_usage\n",
    "    if total_water_left < 0:\n",
    "        raise RuntimeError(f\"There is not enough water for {astronauts} astronauts after {days_left} days!\")\n",
    "    return f\"Total water left after {days_left} days is: {total_water_left} liters\""
   ]
  },
  {
   "cell_type": "code",
   "execution_count": 18,
   "metadata": {},
   "outputs": [
    {
     "ename": "TypeError",
     "evalue": "All arguments must be of type int, but received: '3'",
     "output_type": "error",
     "traceback": [
      "\u001b[1;31m---------------------------------------------------------------------------\u001b[0m",
      "\u001b[1;31mTypeError\u001b[0m                                 Traceback (most recent call last)",
      "\u001b[1;32mc:\\Users\\eduar\\OneDrive - Instituto Tecnológico de Tuxtla Gutiérrez\\Documentos\\Curso\\LaunchX\\Modulo-10-Katas.ipynb Cell 23'\u001b[0m in \u001b[0;36mwater_left\u001b[1;34m(astronauts, water_left, days_left)\u001b[0m\n\u001b[0;32m      <a href='vscode-notebook-cell:/c%3A/Users/eduar/OneDrive%20-%20Instituto%20Tecnol%C3%B3gico%20de%20Tuxtla%20Guti%C3%A9rrez/Documentos/Curso/LaunchX/Modulo-10-Katas.ipynb#ch0000025?line=2'>3</a>\u001b[0m \u001b[39mtry\u001b[39;00m:\n\u001b[0;32m      <a href='vscode-notebook-cell:/c%3A/Users/eduar/OneDrive%20-%20Instituto%20Tecnol%C3%B3gico%20de%20Tuxtla%20Guti%C3%A9rrez/Documentos/Curso/LaunchX/Modulo-10-Katas.ipynb#ch0000025?line=3'>4</a>\u001b[0m     \u001b[39m# If argument is an int, the following operation will work\u001b[39;00m\n\u001b[1;32m----> <a href='vscode-notebook-cell:/c%3A/Users/eduar/OneDrive%20-%20Instituto%20Tecnol%C3%B3gico%20de%20Tuxtla%20Guti%C3%A9rrez/Documentos/Curso/LaunchX/Modulo-10-Katas.ipynb#ch0000025?line=4'>5</a>\u001b[0m     argument \u001b[39m/\u001b[39;49m \u001b[39m10\u001b[39;49m\n\u001b[0;32m      <a href='vscode-notebook-cell:/c%3A/Users/eduar/OneDrive%20-%20Instituto%20Tecnol%C3%B3gico%20de%20Tuxtla%20Guti%C3%A9rrez/Documentos/Curso/LaunchX/Modulo-10-Katas.ipynb#ch0000025?line=5'>6</a>\u001b[0m \u001b[39mexcept\u001b[39;00m \u001b[39mTypeError\u001b[39;00m:\n\u001b[0;32m      <a href='vscode-notebook-cell:/c%3A/Users/eduar/OneDrive%20-%20Instituto%20Tecnol%C3%B3gico%20de%20Tuxtla%20Guti%C3%A9rrez/Documentos/Curso/LaunchX/Modulo-10-Katas.ipynb#ch0000025?line=6'>7</a>\u001b[0m     \u001b[39m# TypError will be raised only if it isn't the right type \u001b[39;00m\n\u001b[0;32m      <a href='vscode-notebook-cell:/c%3A/Users/eduar/OneDrive%20-%20Instituto%20Tecnol%C3%B3gico%20de%20Tuxtla%20Guti%C3%A9rrez/Documentos/Curso/LaunchX/Modulo-10-Katas.ipynb#ch0000025?line=7'>8</a>\u001b[0m     \u001b[39m# Raise the same exception but with a better error message\u001b[39;00m\n",
      "\u001b[1;31mTypeError\u001b[0m: unsupported operand type(s) for /: 'str' and 'int'",
      "\nDuring handling of the above exception, another exception occurred:\n",
      "\u001b[1;31mTypeError\u001b[0m                                 Traceback (most recent call last)",
      "\u001b[1;32mc:\\Users\\eduar\\OneDrive - Instituto Tecnológico de Tuxtla Gutiérrez\\Documentos\\Curso\\LaunchX\\Modulo-10-Katas.ipynb Cell 24'\u001b[0m in \u001b[0;36m<module>\u001b[1;34m\u001b[0m\n\u001b[1;32m----> <a href='vscode-notebook-cell:/c%3A/Users/eduar/OneDrive%20-%20Instituto%20Tecnol%C3%B3gico%20de%20Tuxtla%20Guti%C3%A9rrez/Documentos/Curso/LaunchX/Modulo-10-Katas.ipynb#ch0000026?line=0'>1</a>\u001b[0m water_left(\u001b[39m\"\u001b[39;49m\u001b[39m3\u001b[39;49m\u001b[39m\"\u001b[39;49m, \u001b[39m\"\u001b[39;49m\u001b[39m200\u001b[39;49m\u001b[39m\"\u001b[39;49m, \u001b[39mNone\u001b[39;49;00m)\n",
      "\u001b[1;32mc:\\Users\\eduar\\OneDrive - Instituto Tecnológico de Tuxtla Gutiérrez\\Documentos\\Curso\\LaunchX\\Modulo-10-Katas.ipynb Cell 23'\u001b[0m in \u001b[0;36mwater_left\u001b[1;34m(astronauts, water_left, days_left)\u001b[0m\n\u001b[0;32m      <a href='vscode-notebook-cell:/c%3A/Users/eduar/OneDrive%20-%20Instituto%20Tecnol%C3%B3gico%20de%20Tuxtla%20Guti%C3%A9rrez/Documentos/Curso/LaunchX/Modulo-10-Katas.ipynb#ch0000025?line=4'>5</a>\u001b[0m         argument \u001b[39m/\u001b[39m \u001b[39m10\u001b[39m\n\u001b[0;32m      <a href='vscode-notebook-cell:/c%3A/Users/eduar/OneDrive%20-%20Instituto%20Tecnol%C3%B3gico%20de%20Tuxtla%20Guti%C3%A9rrez/Documentos/Curso/LaunchX/Modulo-10-Katas.ipynb#ch0000025?line=5'>6</a>\u001b[0m     \u001b[39mexcept\u001b[39;00m \u001b[39mTypeError\u001b[39;00m:\n\u001b[0;32m      <a href='vscode-notebook-cell:/c%3A/Users/eduar/OneDrive%20-%20Instituto%20Tecnol%C3%B3gico%20de%20Tuxtla%20Guti%C3%A9rrez/Documentos/Curso/LaunchX/Modulo-10-Katas.ipynb#ch0000025?line=6'>7</a>\u001b[0m         \u001b[39m# TypError will be raised only if it isn't the right type \u001b[39;00m\n\u001b[0;32m      <a href='vscode-notebook-cell:/c%3A/Users/eduar/OneDrive%20-%20Instituto%20Tecnol%C3%B3gico%20de%20Tuxtla%20Guti%C3%A9rrez/Documentos/Curso/LaunchX/Modulo-10-Katas.ipynb#ch0000025?line=7'>8</a>\u001b[0m         \u001b[39m# Raise the same exception but with a better error message\u001b[39;00m\n\u001b[1;32m----> <a href='vscode-notebook-cell:/c%3A/Users/eduar/OneDrive%20-%20Instituto%20Tecnol%C3%B3gico%20de%20Tuxtla%20Guti%C3%A9rrez/Documentos/Curso/LaunchX/Modulo-10-Katas.ipynb#ch0000025?line=8'>9</a>\u001b[0m         \u001b[39mraise\u001b[39;00m \u001b[39mTypeError\u001b[39;00m(\u001b[39mf\u001b[39m\u001b[39m\"\u001b[39m\u001b[39mAll arguments must be of type int, but received: \u001b[39m\u001b[39m'\u001b[39m\u001b[39m{\u001b[39;00margument\u001b[39m}\u001b[39;00m\u001b[39m'\u001b[39m\u001b[39m\"\u001b[39m)\n\u001b[0;32m     <a href='vscode-notebook-cell:/c%3A/Users/eduar/OneDrive%20-%20Instituto%20Tecnol%C3%B3gico%20de%20Tuxtla%20Guti%C3%A9rrez/Documentos/Curso/LaunchX/Modulo-10-Katas.ipynb#ch0000025?line=9'>10</a>\u001b[0m daily_usage \u001b[39m=\u001b[39m astronauts \u001b[39m*\u001b[39m \u001b[39m11\u001b[39m\n\u001b[0;32m     <a href='vscode-notebook-cell:/c%3A/Users/eduar/OneDrive%20-%20Instituto%20Tecnol%C3%B3gico%20de%20Tuxtla%20Guti%C3%A9rrez/Documentos/Curso/LaunchX/Modulo-10-Katas.ipynb#ch0000025?line=10'>11</a>\u001b[0m total_usage \u001b[39m=\u001b[39m daily_usage \u001b[39m*\u001b[39m days_left\n",
      "\u001b[1;31mTypeError\u001b[0m: All arguments must be of type int, but received: '3'"
     ]
    }
   ],
   "source": [
    "water_left(\"3\", \"200\", None)"
   ]
  }
 ],
 "metadata": {
  "interpreter": {
   "hash": "4377b27f8e4686739d02d62161872a63796ae6f0ed9f0699fce35597ef48d50c"
  },
  "kernelspec": {
   "display_name": "Python 3.10.2 64-bit",
   "language": "python",
   "name": "python3"
  },
  "language_info": {
   "codemirror_mode": {
    "name": "ipython",
    "version": 3
   },
   "file_extension": ".py",
   "mimetype": "text/x-python",
   "name": "python",
   "nbconvert_exporter": "python",
   "pygments_lexer": "ipython3",
   "version": "3.10.2"
  },
  "orig_nbformat": 4
 },
 "nbformat": 4,
 "nbformat_minor": 2
}
