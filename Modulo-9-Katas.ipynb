{
 "cells": [
  {
   "cell_type": "markdown",
   "metadata": {},
   "source": [
    "EJERCICIO: Funciones.\n",
    "\n",
    "Se muestra el uso de las funciones en Python."
   ]
  },
  {
   "cell_type": "markdown",
   "metadata": {},
   "source": [
    "- Creación de una función."
   ]
  },
  {
   "cell_type": "code",
   "execution_count": 40,
   "metadata": {},
   "outputs": [],
   "source": [
    "def tanques(tanque1, tanque2, tanque3):\n",
    "    promedio = (int(tanque1) + int(tanque2) + int(tanque3))/3 \n",
    "    informe = f\"\"\"El informe de los tanques de combustible es el siguiente:\n",
    "    - Tanque 1 = {tanque1}\n",
    "    - Tanque 2 = {tanque2}\n",
    "    - Tanque 3 = {tanque3}\n",
    "    El promedio de combustible es de {promedio}\"\"\"\n",
    "    return (informe)"
   ]
  },
  {
   "cell_type": "markdown",
   "metadata": {},
   "source": [
    "- LLamada de una función en Python."
   ]
  },
  {
   "cell_type": "code",
   "execution_count": 41,
   "metadata": {},
   "outputs": [
    {
     "name": "stdout",
     "output_type": "stream",
     "text": [
      "El informe de los tanques de combustible es el siguiente:\n",
      "    - Tanque 1 = 15\n",
      "    - Tanque 2 = 76\n",
      "    - Tanque 3 = 34\n",
      "    El promedio de combustible es de 41.666666666666664\n"
     ]
    }
   ],
   "source": [
    "print(tanques(15,76,34))"
   ]
  },
  {
   "cell_type": "markdown",
   "metadata": {},
   "source": [
    "- Creación de una función para sacar promedios."
   ]
  },
  {
   "cell_type": "code",
   "execution_count": 44,
   "metadata": {},
   "outputs": [
    {
     "name": "stdout",
     "output_type": "stream",
     "text": [
      "8.0\n"
     ]
    }
   ],
   "source": [
    "def promedio(valores):\n",
    "    suma = sum(valores)\n",
    "    contador = len(valores)\n",
    "    promedio_total = suma / contador\n",
    "    return(promedio_total)\n",
    "\n",
    "print(promedio([5,8,11]))"
   ]
  },
  {
   "cell_type": "markdown",
   "metadata": {},
   "source": [
    "- Actualizaciónd e la función tanques."
   ]
  },
  {
   "cell_type": "code",
   "execution_count": 46,
   "metadata": {},
   "outputs": [
    {
     "name": "stdout",
     "output_type": "stream",
     "text": [
      "El informe de los tanques de combustible es el siguiente:\n",
      "    - Tanque 1 = 5.0\n",
      "    - Tanque 2 = 15.0\n",
      "    - Tanque 3 = 37.0\n",
      "    El promedio de combustible es de 19.0\n"
     ]
    }
   ],
   "source": [
    "def tanques(tanque1, tanque2, tanque3):\n",
    "    informe = f\"\"\"El informe de los tanques de combustible es el siguiente:\n",
    "    - Tanque 1 = {promedio([tanque1])}\n",
    "    - Tanque 2 = {promedio([tanque2])}\n",
    "    - Tanque 3 = {promedio([tanque3])}\n",
    "    El promedio de combustible es de {promedio([tanque1, tanque2, tanque3])}\"\"\"\n",
    "    return (informe)\n",
    "\n",
    "print(tanques(5,15,37))"
   ]
  },
  {
   "cell_type": "markdown",
   "metadata": {},
   "source": [
    "EJERCICIO: Argumentos de palabras clave.\n",
    "\n",
    "Se muestra el uso de las palabras clave en las funciones."
   ]
  },
  {
   "cell_type": "code",
   "execution_count": 50,
   "metadata": {},
   "outputs": [
    {
     "name": "stdout",
     "output_type": "stream",
     "text": [
      "\n",
      "    - Misión a: Marte\n",
      "    - Tiempo total de vuelo: 85\n",
      "    - Gasolina total: 623500 \n"
     ]
    }
   ],
   "source": [
    "def informe(prelanzamiento, t_vuelo, destino, tanque_e, tanque_i):\n",
    "    vuelo_total = (prelanzamiento + t_vuelo)\n",
    "    tanque_total = (tanque_e + tanque_i)\n",
    "    reporte = f\"\"\"\n",
    "    - Misión a: {destino}\n",
    "    - Tiempo total de vuelo: {vuelo_total}\n",
    "    - Gasolina total: {tanque_total} \"\"\"\n",
    "    return(reporte)\n",
    "\n",
    "print(informe(20, 65, \"Marte\", 223000, 400500))"
   ]
  },
  {
   "cell_type": "markdown",
   "metadata": {},
   "source": [
    "- Modificación del informe usando \"*\" y  \"**\"."
   ]
  },
  {
   "cell_type": "code",
   "execution_count": 52,
   "metadata": {},
   "outputs": [
    {
     "name": "stdout",
     "output_type": "stream",
     "text": [
      "\n",
      "    - Misión a: Marte\n",
      "    - Tiempo total de vuelo: 60\n",
      "    - Gasolina total: 623500 \n"
     ]
    }
   ],
   "source": [
    "def informe(destino, *minutos, **tanque):\n",
    "    vuelo_total = sum(minutos)\n",
    "    tanque_total = sum(tanque.values())\n",
    "    reporte = f\"\"\"\n",
    "    - Misión a: {destino}\n",
    "    - Tiempo total de vuelo: {vuelo_total}\n",
    "    - Gasolina total: {tanque_total} \"\"\"\n",
    "    return(reporte)\n",
    "\n",
    "print(informe(\"Marte\", 15, 45, externo=223000, interno=400500))"
   ]
  }
 ],
 "metadata": {
  "interpreter": {
   "hash": "4377b27f8e4686739d02d62161872a63796ae6f0ed9f0699fce35597ef48d50c"
  },
  "kernelspec": {
   "display_name": "Python 3.10.2 64-bit",
   "language": "python",
   "name": "python3"
  },
  "language_info": {
   "codemirror_mode": {
    "name": "ipython",
    "version": 3
   },
   "file_extension": ".py",
   "mimetype": "text/x-python",
   "name": "python",
   "nbconvert_exporter": "python",
   "pygments_lexer": "ipython3",
   "version": "3.10.2"
  },
  "orig_nbformat": 4
 },
 "nbformat": 4,
 "nbformat_minor": 2
}
